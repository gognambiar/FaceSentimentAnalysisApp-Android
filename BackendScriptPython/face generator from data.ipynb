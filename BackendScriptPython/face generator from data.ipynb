{
 "cells": [
  {
   "cell_type": "code",
   "execution_count": 1,
   "metadata": {
    "collapsed": true
   },
   "outputs": [],
   "source": [
    "import pandas as pd\n",
    "import numpy as np\n",
    "from PIL import Image\n",
    "import scipy.misc"
   ]
  },
  {
   "cell_type": "code",
   "execution_count": 2,
   "metadata": {
    "collapsed": true
   },
   "outputs": [],
   "source": [
    "df = pd.read_csv('fer2013.csv')"
   ]
  },
  {
   "cell_type": "code",
   "execution_count": 11,
   "metadata": {
    "collapsed": false
   },
   "outputs": [],
   "source": [
    "training = df[df.Usage=='Training']\n",
    "testing = df[df.Usage!='Training']"
   ]
  },
  {
   "cell_type": "code",
   "execution_count": 13,
   "metadata": {
    "collapsed": false
   },
   "outputs": [
    {
     "data": {
      "text/plain": [
       "7178"
      ]
     },
     "execution_count": 13,
     "metadata": {},
     "output_type": "execute_result"
    }
   ],
   "source": [
    "len(testing)"
   ]
  },
  {
   "cell_type": "code",
   "execution_count": 14,
   "metadata": {
    "collapsed": false
   },
   "outputs": [],
   "source": [
    "def csvtoimage(row):\n",
    "    global count \n",
    "    if row[0]==0:\n",
    "        path = 'Anger'\n",
    "    elif row[0]==1:\n",
    "        path = 'Disgust'\n",
    "    elif row[0]==2:\n",
    "        path = 'Fear'\n",
    "    elif row[0] ==3:\n",
    "        path = 'Happy'\n",
    "    elif row[0] == 4:\n",
    "        path = 'Sad'\n",
    "    elif row[0] == 5:\n",
    "        path = 'Surprise'\n",
    "    else:\n",
    "        path = 'Neutral'   \n",
    "    pixel = map(int, row[1].split())\n",
    "    pixel = np.asarray(pixel)\n",
    "    image = pixel.reshape(48, 48) #48*48 is     the size of the image\n",
    "    stacked_image = np.dstack((image,) * 3)\n",
    "    scipy.misc.imsave('/media/deen/Drive F/fer2013/dataset/testing/'+path+'/'+str(count)+\".jpg\", stacked_image)\n",
    "    count = count+1"
   ]
  },
  {
   "cell_type": "code",
   "execution_count": 16,
   "metadata": {
    "collapsed": false
   },
   "outputs": [
    {
     "data": {
      "text/plain": [
       "0        None\n",
       "1        None\n",
       "2        None\n",
       "3        None\n",
       "4        None\n",
       "5        None\n",
       "6        None\n",
       "7        None\n",
       "8        None\n",
       "9        None\n",
       "10       None\n",
       "11       None\n",
       "12       None\n",
       "13       None\n",
       "14       None\n",
       "15       None\n",
       "16       None\n",
       "17       None\n",
       "18       None\n",
       "19       None\n",
       "20       None\n",
       "21       None\n",
       "22       None\n",
       "23       None\n",
       "24       None\n",
       "25       None\n",
       "26       None\n",
       "27       None\n",
       "28       None\n",
       "29       None\n",
       "         ... \n",
       "28679    None\n",
       "28680    None\n",
       "28681    None\n",
       "28682    None\n",
       "28683    None\n",
       "28684    None\n",
       "28685    None\n",
       "28686    None\n",
       "28687    None\n",
       "28688    None\n",
       "28689    None\n",
       "28690    None\n",
       "28691    None\n",
       "28692    None\n",
       "28693    None\n",
       "28694    None\n",
       "28695    None\n",
       "28696    None\n",
       "28697    None\n",
       "28698    None\n",
       "28699    None\n",
       "28700    None\n",
       "28701    None\n",
       "28702    None\n",
       "28703    None\n",
       "28704    None\n",
       "28705    None\n",
       "28706    None\n",
       "28707    None\n",
       "28708    None\n",
       "dtype: object"
      ]
     },
     "execution_count": 16,
     "metadata": {},
     "output_type": "execute_result"
    }
   ],
   "source": [
    "count = 1\n",
    "training.apply(csvtoimage,axis=1)\n",
    "count = 0\n",
    "testing.apply(csvtoimage,axis=1)"
   ]
  },
  {
   "cell_type": "code",
   "execution_count": null,
   "metadata": {
    "collapsed": false
   },
   "outputs": [],
   "source": []
  }
 ],
 "metadata": {
  "kernelspec": {
   "display_name": "Python [Root]",
   "language": "python",
   "name": "Python [Root]"
  },
  "language_info": {
   "codemirror_mode": {
    "name": "ipython",
    "version": 2
   },
   "file_extension": ".py",
   "mimetype": "text/x-python",
   "name": "python",
   "nbconvert_exporter": "python",
   "pygments_lexer": "ipython2",
   "version": "2.7.12"
  }
 },
 "nbformat": 4,
 "nbformat_minor": 0
}
